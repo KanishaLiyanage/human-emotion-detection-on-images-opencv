{
 "cells": [
  {
   "cell_type": "code",
   "execution_count": 1,
   "id": "a6bbb862-1c60-47c0-b40e-20b1706bcf21",
   "metadata": {},
   "outputs": [],
   "source": [
    "import cv2\n",
    "\n",
    "import matplotlib.pyplot as plt\n",
    "import numpy as np\n",
    "import pandas as pd\n",
    "\n",
    "import tensorflow as tf\n",
    "import keras\n",
    "from keras.models import load_model\n",
    "from keras.preprocessing import image\n",
    "from keras.utils import np_utils"
   ]
  },
  {
   "cell_type": "code",
   "execution_count": 2,
   "id": "d1a22858-0281-452e-a7f8-f3dc1f06f6dd",
   "metadata": {},
   "outputs": [],
   "source": [
    "image_file = cv2.imread('happy.jpg')"
   ]
  },
  {
   "cell_type": "code",
   "execution_count": 3,
   "id": "7ec2320e-297c-4434-b117-17c8671fac42",
   "metadata": {},
   "outputs": [],
   "source": [
    "emotions_classifier = load_model('ferNet.h5')"
   ]
  },
  {
   "cell_type": "code",
   "execution_count": null,
   "id": "c0b37684-eff2-4ad0-ab61-e950da6ad945",
   "metadata": {},
   "outputs": [
    {
     "name": "stdout",
     "output_type": "stream",
     "text": [
      "1/1 [==============================] - 0s 185ms/step\n"
     ]
    }
   ],
   "source": [
    "face_cascade = cv2.CascadeClassifier('face cascade file/haarcascade_frontalface_default.xml')\n",
    "emotion_labels = ['Angry', 'Disgust', 'Fear', 'Happy', 'Neutral', 'Sad', 'Surprise']\n",
    "\n",
    "def detect_face(img):\n",
    "    face_img = img.copy()\n",
    "    faces = face_cascade.detectMultiScale(face_img)\n",
    "    gray = cv2.cvtColor(face_img, cv2.COLOR_BGR2GRAY)\n",
    "    \n",
    "    for (x, y, w, h) in faces:\n",
    "        cv2.rectangle(face_img, (x, y), (x+w, y+h), (0, 0, 255), 2)\n",
    "        roi_gray = gray[y:y+h, x:x+w]\n",
    "        roi_gray = cv2.resize(roi_gray, (48, 48), interpolation=cv2.INTER_AREA)\n",
    "        \n",
    "        if np.sum([roi_gray])!=0:\n",
    "            roi = roi_gray.astype('float')/255.0\n",
    "            roi = keras.utils.img_to_array(roi)\n",
    "            roi = np.expand_dims(roi, axis=0)\n",
    "            prediction = emotions_classifier.predict(roi)[0]\n",
    "            label=emotion_labels[prediction.argmax()]\n",
    "            label_position = (x, y-10)\n",
    "            cv2.putText(img, label, label_position, cv2.FONT_HERSHEY_SIMPLEX, 1, (0, 255, 0), 2)  \n",
    "        else:\n",
    "            cv2.putText(img, 'No Faces', (30, 80), cv2.FONT_HERSHEY_SIMPLEX, 1, (0, 255, 0), 2)\n",
    "        \n",
    "    return face_img\n",
    "\n",
    "result = detect_face(image_file)\n",
    "\n",
    "result = cv2.cvtColor(result.copy(), cv2.COLOR_BGR2RGB)\n",
    "plt.imshow(result)"
   ]
  },
  {
   "cell_type": "code",
   "execution_count": null,
   "id": "1512efaa-3913-433b-a517-948d06dd7dee",
   "metadata": {},
   "outputs": [],
   "source": []
  }
 ],
 "metadata": {
  "kernelspec": {
   "display_name": "Python 3 (ipykernel)",
   "language": "python",
   "name": "python3"
  },
  "language_info": {
   "codemirror_mode": {
    "name": "ipython",
    "version": 3
   },
   "file_extension": ".py",
   "mimetype": "text/x-python",
   "name": "python",
   "nbconvert_exporter": "python",
   "pygments_lexer": "ipython3",
   "version": "3.9.13"
  }
 },
 "nbformat": 4,
 "nbformat_minor": 5
}
